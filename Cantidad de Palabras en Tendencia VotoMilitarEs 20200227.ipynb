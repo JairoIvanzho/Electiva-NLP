{
 "cells": [
  {
   "cell_type": "code",
   "execution_count": 1,
   "metadata": {},
   "outputs": [],
   "source": [
    "import os\n",
    "import pandas as pd\n",
    "import matplotlib.pyplot as plt\n",
    "import seaborn as sns\n",
    "import itertools\n",
    "import collections\n",
    "\n",
    "import tweepy as tw\n",
    "import nltk\n",
    "from nltk.corpus import stopwords\n",
    "import re\n",
    "import networkx\n",
    "\n",
    "import warnings\n",
    "warnings.filterwarnings(\"ignore\")\n",
    "\n",
    "sns.set(font_scale=1.5)\n",
    "sns.set_style(\"whitegrid\")\n",
    "\n",
    "#Variables de uso para el API.\n",
    "api_key = \"Eh1CGW0eCINU8wOldmcT4MP6R\"\n",
    "api_secret_key = \"B91JlAeqHh5HxTgUjOazBRhaBhNMlhdD5BL7FUih9M0Kpo1xjS\"\n",
    "access_token = \"153614749-mdtFjILifEOr66tHYZLdOngwIp8tdIRh5ndt4rsU\"\n",
    "access_token_secret = \"8Z3aXqg8hvadwLaL9KjGSSeSiCoDywPL1HgfeAWMLJxUS\"\n",
    "\n",
    "#Asignación del API\n",
    "auth = tw.OAuthHandler(api_key, api_secret_key)\n",
    "auth.set_access_token(access_token, access_token_secret)\n",
    "api = tw.API(auth, wait_on_rate_limit=True)"
   ]
  },
  {
   "cell_type": "code",
   "execution_count": 17,
   "metadata": {},
   "outputs": [
    {
     "data": {
      "text/plain": [
       "['#Dauphiné | -50 Km: El pelotón de los colombianos está a 4:16 del grupo de 15 fugados [EN VIVO] #EnVivo https://t.co/yZhXw9LOCZ',\n",
       " 'Tal parece que la caída de Roglic, no ha sido nada suave, esperemos y no le afecte demasiado\\n\\n#CriteriumDuDauphine… https://t.co/TBCtXHky5S',\n",
       " '#Dauphine También se ha caído Roglic y ha regreaado al pelotón con la ayuda de WvA. https://t.co/mskgzQcjAB',\n",
       " 'La caída de Primoz Roglic parece que ha sido dura también. Varios rasgones en la parte izquierda. #Dauphiné https://t.co/Dg2gNskBL6',\n",
       " '#Dauphiné | Acá puede seguir la etapa 4 del Critérium del Dauphiné 2020 en directo [EN VIVO] #EnVivo https://t.co/pPmLZBySXz']"
      ]
     },
     "execution_count": 17,
     "metadata": {},
     "output_type": "execute_result"
    }
   ],
   "source": [
    "search_term = \"#Dauphine -filter:retweets\"\n",
    "\n",
    "tweets = tw.Cursor(api.search,\n",
    "                   q=search_term,\n",
    "                   lang=\"es\",\n",
    "                   since='2020-08-15').items(5000)\n",
    "\n",
    "all_tweets = [tweet.text for tweet in tweets]\n",
    "\n",
    "all_tweets[:5]"
   ]
  },
  {
   "cell_type": "code",
   "execution_count": 3,
   "metadata": {},
   "outputs": [],
   "source": [
    "def remove_url(txt):\n",
    "    \"\"\"Replace URLs found in a text string with nothing \n",
    "    (i.e. it will remove the URL from the string).\n",
    "\n",
    "    Parameters\n",
    "    ----------\n",
    "    txt : string\n",
    "        A text string that you want to parse and remove urls.\n",
    "\n",
    "    Returns\n",
    "    -------\n",
    "    The same txt string with url's removed.\n",
    "    \"\"\"\n",
    "\n",
    "    return \" \".join(re.sub(\"([^0-9A-Za-z \\t])|(\\w+:\\/\\/\\S+)\", \"\", txt).split())"
   ]
  },
  {
   "cell_type": "code",
   "execution_count": 18,
   "metadata": {},
   "outputs": [
    {
     "data": {
      "text/plain": [
       "['Dauphin 50 Km El pelotn de los colombianos est a 416 del grupo de 15 fugados EN VIVO EnVivo',\n",
       " 'Tal parece que la cada de Roglic no ha sido nada suave esperemos y no le afecte demasiadoCriteriumDuDauphine',\n",
       " 'Dauphine Tambin se ha cado Roglic y ha regreaado al pelotn con la ayuda de WvA',\n",
       " 'La cada de Primoz Roglic parece que ha sido dura tambin Varios rasgones en la parte izquierda Dauphin',\n",
       " 'Dauphin Ac puede seguir la etapa 4 del Critrium del Dauphin 2020 en directo EN VIVO EnVivo']"
      ]
     },
     "execution_count": 18,
     "metadata": {},
     "output_type": "execute_result"
    }
   ],
   "source": [
    "#Utilizamos la función definida para elimitar las urls.\n",
    "tweets_sin_urls = [remove_url(tweet) for tweet in all_tweets]\n",
    "tweets_sin_urls[:5]"
   ]
  },
  {
   "cell_type": "code",
   "execution_count": 19,
   "metadata": {},
   "outputs": [
    {
     "data": {
      "text/plain": [
       "[['dauphin',\n",
       "  '50',\n",
       "  'km',\n",
       "  'el',\n",
       "  'pelotn',\n",
       "  'de',\n",
       "  'los',\n",
       "  'colombianos',\n",
       "  'est',\n",
       "  'a',\n",
       "  '416',\n",
       "  'del',\n",
       "  'grupo',\n",
       "  'de',\n",
       "  '15',\n",
       "  'fugados',\n",
       "  'en',\n",
       "  'vivo',\n",
       "  'envivo'],\n",
       " ['tal',\n",
       "  'parece',\n",
       "  'que',\n",
       "  'la',\n",
       "  'cada',\n",
       "  'de',\n",
       "  'roglic',\n",
       "  'no',\n",
       "  'ha',\n",
       "  'sido',\n",
       "  'nada',\n",
       "  'suave',\n",
       "  'esperemos',\n",
       "  'y',\n",
       "  'no',\n",
       "  'le',\n",
       "  'afecte',\n",
       "  'demasiadocriteriumdudauphine']]"
      ]
     },
     "execution_count": 19,
     "metadata": {},
     "output_type": "execute_result"
    }
   ],
   "source": [
    "# Se crea una lista por cada palabra que exista dentro de cada tweet.\n",
    "palabrasEnTweet = [tweet.lower().split() for tweet in tweets_sin_urls]\n",
    "palabrasEnTweet[:2]\n"
   ]
  },
  {
   "cell_type": "code",
   "execution_count": 20,
   "metadata": {},
   "outputs": [
    {
     "data": {
      "text/plain": [
       "[('de', 202),\n",
       " ('la', 171),\n",
       " ('en', 121),\n",
       " ('dauphine', 105),\n",
       " ('el', 103),\n",
       " ('y', 78),\n",
       " ('del', 73),\n",
       " ('que', 70),\n",
       " ('dauphin', 69),\n",
       " ('etapa', 65),\n",
       " ('no', 62),\n",
       " ('con', 48),\n",
       " ('a', 45),\n",
       " ('se', 45),\n",
       " ('bernal', 42)]"
      ]
     },
     "execution_count": 20,
     "metadata": {},
     "output_type": "execute_result"
    }
   ],
   "source": [
    "#Ahora, contemos la cantidad de palabras\n",
    "# List of all words across tweets\n",
    "palabrasTweetSinURL = list(itertools.chain(*palabrasEnTweet))\n",
    "\n",
    "# Create counter\n",
    "conteoSinURL = collections.Counter(palabrasTweetSinURL)\n",
    "\n",
    "conteoSinURL.most_common(15)"
   ]
  },
  {
   "cell_type": "code",
   "execution_count": 21,
   "metadata": {},
   "outputs": [
    {
     "data": {
      "text/html": [
       "<div>\n",
       "<style scoped>\n",
       "    .dataframe tbody tr th:only-of-type {\n",
       "        vertical-align: middle;\n",
       "    }\n",
       "\n",
       "    .dataframe tbody tr th {\n",
       "        vertical-align: top;\n",
       "    }\n",
       "\n",
       "    .dataframe thead th {\n",
       "        text-align: right;\n",
       "    }\n",
       "</style>\n",
       "<table border=\"1\" class=\"dataframe\">\n",
       "  <thead>\n",
       "    <tr style=\"text-align: right;\">\n",
       "      <th></th>\n",
       "      <th>words</th>\n",
       "      <th>count</th>\n",
       "    </tr>\n",
       "  </thead>\n",
       "  <tbody>\n",
       "    <tr>\n",
       "      <td>0</td>\n",
       "      <td>de</td>\n",
       "      <td>202</td>\n",
       "    </tr>\n",
       "    <tr>\n",
       "      <td>1</td>\n",
       "      <td>la</td>\n",
       "      <td>171</td>\n",
       "    </tr>\n",
       "    <tr>\n",
       "      <td>2</td>\n",
       "      <td>en</td>\n",
       "      <td>121</td>\n",
       "    </tr>\n",
       "    <tr>\n",
       "      <td>3</td>\n",
       "      <td>dauphine</td>\n",
       "      <td>105</td>\n",
       "    </tr>\n",
       "    <tr>\n",
       "      <td>4</td>\n",
       "      <td>el</td>\n",
       "      <td>103</td>\n",
       "    </tr>\n",
       "  </tbody>\n",
       "</table>\n",
       "</div>"
      ],
      "text/plain": [
       "      words  count\n",
       "0        de    202\n",
       "1        la    171\n",
       "2        en    121\n",
       "3  dauphine    105\n",
       "4        el    103"
      ]
     },
     "execution_count": 21,
     "metadata": {},
     "output_type": "execute_result"
    }
   ],
   "source": [
    "#Pasemos a limpio en un DataFrame\n",
    "dfPalabras = pd.DataFrame(conteoSinURL.most_common(15),\n",
    "                             columns=['words', 'count'])\n",
    "\n",
    "dfPalabras.head()"
   ]
  },
  {
   "cell_type": "code",
   "execution_count": 22,
   "metadata": {},
   "outputs": [
    {
     "data": {
      "image/png": "[encoded data removed]",
      "text/plain": [
       "<Figure size 576x576 with 1 Axes>"
      ]
     },
     "metadata": {
      "needs_background": "light"
     },
     "output_type": "display_data"
    }
   ],
   "source": [
    "#Ahora, imprimamos en un Plot de Barras:\n",
    "fig, ax = plt.subplots(figsize=(8, 8))\n",
    "\n",
    "# Plot horizontal bar graph\n",
    "dfPalabras.sort_values(by='count').plot.barh(x='words',\n",
    "                      y='count',\n",
    "                      ax=ax,\n",
    "                      color=\"red\")\n",
    "\n",
    "ax.set_title(\"Common Words Found in Tweets (Including All Words)\")\n",
    "\n",
    "plt.show()"
   ]
  },
  {
   "cell_type": "code",
   "execution_count": 23,
   "metadata": {},
   "outputs": [
    {
     "name": "stderr",
     "output_type": "stream",
     "text": [
      "[nltk_data] Downloading package stopwords to\n",
      "[nltk_data]     C:\\Users\\eordjai\\AppData\\Roaming\\nltk_data...\n",
      "[nltk_data]   Package stopwords is already up-to-date!\n"
     ]
    },
    {
     "data": {
      "text/plain": [
       "['donde',\n",
       " 'nuestra',\n",
       " 'tuviera',\n",
       " 'estamos',\n",
       " 'durante',\n",
       " 'nosotros',\n",
       " 'tenga',\n",
       " 'os',\n",
       " 'habíamos',\n",
       " 'tuviesen']"
      ]
     },
     "execution_count": 23,
     "metadata": {},
     "output_type": "execute_result"
    }
   ],
   "source": [
    "#como vemos muchas palabras de conexión, vamos a eliminarlos de nuestro set de datos.\n",
    "nltk.download('stopwords')\n",
    "palabras_conexion = set(stopwords.words('spanish'))\n",
    "list(palabras_conexion)[0:10]"
   ]
  },
  {
   "cell_type": "code",
   "execution_count": 24,
   "metadata": {},
   "outputs": [
    {
     "data": {
      "text/plain": [
       "['dauphin',\n",
       " '50',\n",
       " 'km',\n",
       " 'pelotn',\n",
       " 'colombianos',\n",
       " 'est',\n",
       " '416',\n",
       " 'grupo',\n",
       " '15',\n",
       " 'fugados',\n",
       " 'vivo',\n",
       " 'envivo']"
      ]
     },
     "execution_count": 24,
     "metadata": {},
     "output_type": "execute_result"
    }
   ],
   "source": [
    "# Quitemos las palabras de conexión de nuestra lista\n",
    "tweetsLimpios = [[word for word in tweet_words if not word in palabras_conexion]\n",
    "              for tweet_words in palabrasEnTweet]\n",
    "\n",
    "tweetsLimpios[0]"
   ]
  },
  {
   "cell_type": "code",
   "execution_count": 25,
   "metadata": {},
   "outputs": [
    {
     "data": {
      "text/plain": [
       "[('dauphine', 105),\n",
       " ('dauphin', 69),\n",
       " ('etapa', 65),\n",
       " ('bernal', 42),\n",
       " ('4', 35),\n",
       " ('egan', 31),\n",
       " ('hoy', 29),\n",
       " ('cada', 26),\n",
       " ('cuarta', 22),\n",
       " ('buchmann', 22),\n",
       " ('critrium', 21),\n",
       " ('est', 20),\n",
       " ('roglic', 20),\n",
       " ('fuga', 20),\n",
       " ('eganbernal', 19)]"
      ]
     },
     "execution_count": 25,
     "metadata": {},
     "output_type": "execute_result"
    }
   ],
   "source": [
    "#Volvamos a sacar la cantidad de palabras de la muestra quitando las palabras de conexión\n",
    "nuevoPalabrasTweetSinURL = list(itertools.chain(*tweetsLimpios))\n",
    "\n",
    "nuveoConteo = collections.Counter(nuevoPalabrasTweetSinURL)\n",
    "\n",
    "nuveoConteo.most_common(15)"
   ]
  },
  {
   "cell_type": "code",
   "execution_count": 26,
   "metadata": {},
   "outputs": [
    {
     "data": {
      "image/png": "[encoded data removed]",
      "text/plain": [
       "<Figure size 576x576 with 1 Axes>"
      ]
     },
     "metadata": {
      "needs_background": "light"
     },
     "output_type": "display_data"
    }
   ],
   "source": [
    "#Volvemos a pintar \n",
    "dfPalabrasNuevo = pd.DataFrame(nuveoConteo.most_common(15),\n",
    "                             columns=['words', 'count'])\n",
    "\n",
    "fig, ax = plt.subplots(figsize=(8, 8))\n",
    "\n",
    "# Plot horizontal bar graph\n",
    "dfPalabrasNuevo.sort_values(by='count').plot.barh(x='words',\n",
    "                      y='count',\n",
    "                      ax=ax,\n",
    "                      color=\"purple\")\n",
    "\n",
    "ax.set_title(\"Common Words Found in Tweets (Without Stop Words)\")\n",
    "\n",
    "plt.show()"
   ]
  },
  {
   "cell_type": "code",
   "execution_count": 27,
   "metadata": {},
   "outputs": [],
   "source": [
    "#Ahora, como la tendencia que estamos buscando es #VotoMilitarEs es lógico que sea la palabra que más se encuentre,\n",
    "#por eso, vamos a quitarlo de la muestra\n",
    "palabrasBusqueda = ['dauphin', 'dauphine']\n",
    "nuevoPalabrasTweetSinPB = [[word for word in tweet_words if not word in palabrasBusqueda]\n",
    "              for tweet_words in tweetsLimpios]"
   ]
  },
  {
   "cell_type": "code",
   "execution_count": 28,
   "metadata": {},
   "outputs": [
    {
     "data": {
      "text/plain": [
       "[('etapa', 65),\n",
       " ('bernal', 42),\n",
       " ('4', 35),\n",
       " ('egan', 31),\n",
       " ('hoy', 29),\n",
       " ('cada', 26),\n",
       " ('cuarta', 22),\n",
       " ('buchmann', 22),\n",
       " ('critrium', 21),\n",
       " ('est', 20),\n",
       " ('roglic', 20),\n",
       " ('fuga', 20),\n",
       " ('eganbernal', 19),\n",
       " ('kruijswijk', 19),\n",
       " ('salida', 17)]"
      ]
     },
     "execution_count": 28,
     "metadata": {},
     "output_type": "execute_result"
    }
   ],
   "source": [
    "# Flatten list of words in clean tweets\n",
    "soloPalabrasSinPBniURLniPC = list(itertools.chain(*nuevoPalabrasTweetSinPB))\n",
    "\n",
    "# Create counter of words in clean tweets\n",
    "nuevoConteoLimpio = collections.Counter(soloPalabrasSinPBniURLniPC)\n",
    "\n",
    "nuevoConteoLimpio.most_common(15)"
   ]
  },
  {
   "cell_type": "code",
   "execution_count": 29,
   "metadata": {},
   "outputs": [
    {
     "data": {
      "text/html": [
       "<div>\n",
       "<style scoped>\n",
       "    .dataframe tbody tr th:only-of-type {\n",
       "        vertical-align: middle;\n",
       "    }\n",
       "\n",
       "    .dataframe tbody tr th {\n",
       "        vertical-align: top;\n",
       "    }\n",
       "\n",
       "    .dataframe thead th {\n",
       "        text-align: right;\n",
       "    }\n",
       "</style>\n",
       "<table border=\"1\" class=\"dataframe\">\n",
       "  <thead>\n",
       "    <tr style=\"text-align: right;\">\n",
       "      <th></th>\n",
       "      <th>words</th>\n",
       "      <th>count</th>\n",
       "    </tr>\n",
       "  </thead>\n",
       "  <tbody>\n",
       "    <tr>\n",
       "      <td>0</td>\n",
       "      <td>etapa</td>\n",
       "      <td>65</td>\n",
       "    </tr>\n",
       "    <tr>\n",
       "      <td>1</td>\n",
       "      <td>bernal</td>\n",
       "      <td>42</td>\n",
       "    </tr>\n",
       "    <tr>\n",
       "      <td>2</td>\n",
       "      <td>4</td>\n",
       "      <td>35</td>\n",
       "    </tr>\n",
       "    <tr>\n",
       "      <td>3</td>\n",
       "      <td>egan</td>\n",
       "      <td>31</td>\n",
       "    </tr>\n",
       "    <tr>\n",
       "      <td>4</td>\n",
       "      <td>hoy</td>\n",
       "      <td>29</td>\n",
       "    </tr>\n",
       "  </tbody>\n",
       "</table>\n",
       "</div>"
      ],
      "text/plain": [
       "    words  count\n",
       "0   etapa     65\n",
       "1  bernal     42\n",
       "2       4     35\n",
       "3    egan     31\n",
       "4     hoy     29"
      ]
     },
     "execution_count": 29,
     "metadata": {},
     "output_type": "execute_result"
    }
   ],
   "source": [
    "nuevoDFLimpioPalabras = pd.DataFrame(nuevoConteoLimpio.most_common(15),\n",
    "                             columns=['words', 'count'])\n",
    "nuevoDFLimpioPalabras.head()"
   ]
  },
  {
   "cell_type": "code",
   "execution_count": 30,
   "metadata": {},
   "outputs": [
    {
     "data": {
      "image/png": "[encoded data removed]",
      "text/plain": [
       "<Figure size 576x576 with 1 Axes>"
      ]
     },
     "metadata": {
      "needs_background": "light"
     },
     "output_type": "display_data"
    }
   ],
   "source": [
    "fig, ax = plt.subplots(figsize=(8, 8))\n",
    "\n",
    "# Plot horizontal bar graph\n",
    "nuevoDFLimpioPalabras.sort_values(by='count').plot.barh(x='words',\n",
    "                      y='count',\n",
    "                      ax=ax,\n",
    "                      color=\"purple\")\n",
    "\n",
    "ax.set_title(\"Common Words Found in Tweets (Without Stop or Collection Words)\")\n",
    "\n",
    "plt.show()"
   ]
  },
  {
   "cell_type": "code",
   "execution_count": null,
   "metadata": {},
   "outputs": [],
   "source": []
  }
 ],
 "metadata": {
  "kernelspec": {
   "display_name": "Python 3",
   "language": "python",
   "name": "python3"
  },
  "language_info": {
   "codemirror_mode": {
    "name": "ipython",
    "version": 3
   },
   "file_extension": ".py",
   "mimetype": "text/x-python",
   "name": "python",
   "nbconvert_exporter": "python",
   "pygments_lexer": "ipython3",
   "version": "3.7.4"
  }
 },
 "nbformat": 4,
 "nbformat_minor": 2
}
