{
 "cells": [
  {
   "cell_type": "markdown",
   "metadata": {},
   "source": [
    "# Taller 1 - Electiva NLP\n",
    "# Jairo Iván Ordóñez\n",
    "Especialización Analítica Estratégica de Datos\n",
    "\n",
    "Grupo 51\n"
   ]
  },
  {
   "cell_type": "markdown",
   "metadata": {},
   "source": [
    "## 1. Instalación de Python (Anaconda)"
   ]
  },
  {
   "cell_type": "markdown",
   "metadata": {},
   "source": [
    "<img src=\"./01.Version Python.png\">"
   ]
  },
  {
   "cell_type": "markdown",
   "metadata": {},
   "source": [
    "<img src=\"./02.Jupyter Notebook.png\">"
   ]
  },
  {
   "cell_type": "markdown",
   "metadata": {},
   "source": [
    "## 2. Creación de Cuenta GitHub"
   ]
  },
  {
   "cell_type": "markdown",
   "metadata": {},
   "source": [
    "<img src=\"./03.Cuenta de GitHub.png\">"
   ]
  },
  {
   "cell_type": "markdown",
   "metadata": {},
   "source": [
    "## 3. Obtener Cuenta de Desarrollador Twitter"
   ]
  },
  {
   "cell_type": "markdown",
   "metadata": {},
   "source": [
    "<img src=\"./04.Cuenta Desarrollador Twitter.png\">"
   ]
  },
  {
   "cell_type": "markdown",
   "metadata": {},
   "source": [
    "## 4. Contar palabras del Documento de Google"
   ]
  },
  {
   "cell_type": "markdown",
   "metadata": {},
   "source": [
    "### 4.1. Cargando Datos"
   ]
  },
  {
   "cell_type": "code",
   "execution_count": 1,
   "metadata": {},
   "outputs": [],
   "source": [
    "#Importación de librerías\n",
    "import pandas as pd\n",
    "import collections\n",
    "import nltk\n",
    "from nltk.corpus import stopwords\n",
    "import matplotlib.pyplot as plt"
   ]
  },
  {
   "cell_type": "code",
   "execution_count": 2,
   "metadata": {},
   "outputs": [
    {
     "data": {
      "text/html": [
       "<div>\n",
       "<style scoped>\n",
       "    .dataframe tbody tr th:only-of-type {\n",
       "        vertical-align: middle;\n",
       "    }\n",
       "\n",
       "    .dataframe tbody tr th {\n",
       "        vertical-align: top;\n",
       "    }\n",
       "\n",
       "    .dataframe thead th {\n",
       "        text-align: right;\n",
       "    }\n",
       "</style>\n",
       "<table border=\"1\" class=\"dataframe\">\n",
       "  <thead>\n",
       "    <tr style=\"text-align: right;\">\n",
       "      <th></th>\n",
       "      <th>#</th>\n",
       "      <th>Nombre</th>\n",
       "      <th>¿Por qué estás estudiando análitica estratégica de datos?</th>\n",
       "      <th>Sistema Operativo</th>\n",
       "    </tr>\n",
       "  </thead>\n",
       "  <tbody>\n",
       "    <tr>\n",
       "      <td>0</td>\n",
       "      <td>1</td>\n",
       "      <td>Viviana Márquez</td>\n",
       "      <td>Me gustan mucho las matemáticas, la programaci...</td>\n",
       "      <td>macOSx</td>\n",
       "    </tr>\n",
       "    <tr>\n",
       "      <td>1</td>\n",
       "      <td>2</td>\n",
       "      <td>Jorge Gomez</td>\n",
       "      <td>Desarrollo profesional y proyecto personal.</td>\n",
       "      <td>Windows x64</td>\n",
       "    </tr>\n",
       "    <tr>\n",
       "      <td>2</td>\n",
       "      <td>3</td>\n",
       "      <td>Ilvar Dario Sanabria</td>\n",
       "      <td>Muchas de las decisiones se basan en datos y c...</td>\n",
       "      <td>Windows x64</td>\n",
       "    </tr>\n",
       "    <tr>\n",
       "      <td>3</td>\n",
       "      <td>4</td>\n",
       "      <td>Camilo Rojas</td>\n",
       "      <td>Trabajo con temas relacionados a gestión de in...</td>\n",
       "      <td>Windows x64</td>\n",
       "    </tr>\n",
       "    <tr>\n",
       "      <td>4</td>\n",
       "      <td>5</td>\n",
       "      <td>Xiomy Díaz</td>\n",
       "      <td>En mi experiencia en investigación de mercados...</td>\n",
       "      <td>Windows x64</td>\n",
       "    </tr>\n",
       "  </tbody>\n",
       "</table>\n",
       "</div>"
      ],
      "text/plain": [
       "   #                 Nombre  \\\n",
       "0   1       Viviana Márquez   \n",
       "1   2           Jorge Gomez   \n",
       "2   3  Ilvar Dario Sanabria   \n",
       "3   4          Camilo Rojas   \n",
       "4   5            Xiomy Díaz   \n",
       "\n",
       "  ¿Por qué estás estudiando análitica estratégica de datos? Sistema Operativo  \n",
       "0  Me gustan mucho las matemáticas, la programaci...                   macOSx  \n",
       "1        Desarrollo profesional y proyecto personal.              Windows x64  \n",
       "2  Muchas de las decisiones se basan en datos y c...              Windows x64  \n",
       "3  Trabajo con temas relacionados a gestión de in...              Windows x64  \n",
       "4  En mi experiencia en investigación de mercados...              Windows x64  "
      ]
     },
     "execution_count": 2,
     "metadata": {},
     "output_type": "execute_result"
    }
   ],
   "source": [
    "#Leemos los datos y mostramos los primeros registros\n",
    "datos = pd.read_csv(r'Taller 1 --- Datos - Sheet1.csv')\n",
    "datos.head()"
   ]
  },
  {
   "cell_type": "markdown",
   "metadata": {},
   "source": [
    "### 4.2 Contando el número de Palabras por estudiante"
   ]
  },
  {
   "cell_type": "code",
   "execution_count": 3,
   "metadata": {},
   "outputs": [
    {
     "name": "stderr",
     "output_type": "stream",
     "text": [
      "C:\\Jairo.Ordonez\\2. Personal\\Data Science Program\\Anaconda3\\lib\\site-packages\\ipykernel_launcher.py:5: SettingWithCopyWarning: \n",
      "A value is trying to be set on a copy of a slice from a DataFrame\n",
      "\n",
      "See the caveats in the documentation: http://pandas.pydata.org/pandas-docs/stable/user_guide/indexing.html#returning-a-view-versus-a-copy\n",
      "  \"\"\"\n"
     ]
    }
   ],
   "source": [
    "#Convertimos la Serie en texto y le asignamos el valor de la cantidad de palabras al registro del estudiante:\n",
    "idx = pd.Index(datos['¿Por qué estás estudiando análitica estratégica de datos?'])\n",
    "datos['NumPalabras'] = 0\n",
    "for i in range(len(idx.str.split())):\n",
    "    datos.NumPalabras[i] = len(idx.str.split()[i])"
   ]
  },
  {
   "cell_type": "code",
   "execution_count": 4,
   "metadata": {},
   "outputs": [
    {
     "data": {
      "text/html": [
       "<div>\n",
       "<style scoped>\n",
       "    .dataframe tbody tr th:only-of-type {\n",
       "        vertical-align: middle;\n",
       "    }\n",
       "\n",
       "    .dataframe tbody tr th {\n",
       "        vertical-align: top;\n",
       "    }\n",
       "\n",
       "    .dataframe thead th {\n",
       "        text-align: right;\n",
       "    }\n",
       "</style>\n",
       "<table border=\"1\" class=\"dataframe\">\n",
       "  <thead>\n",
       "    <tr style=\"text-align: right;\">\n",
       "      <th></th>\n",
       "      <th>Nombre</th>\n",
       "      <th>NumPalabras</th>\n",
       "    </tr>\n",
       "  </thead>\n",
       "  <tbody>\n",
       "    <tr>\n",
       "      <td>4</td>\n",
       "      <td>Xiomy Díaz</td>\n",
       "      <td>64</td>\n",
       "    </tr>\n",
       "    <tr>\n",
       "      <td>10</td>\n",
       "      <td>Arturo Hernández Carvajal</td>\n",
       "      <td>63</td>\n",
       "    </tr>\n",
       "    <tr>\n",
       "      <td>19</td>\n",
       "      <td>Duberney Agudelo Delgadillo</td>\n",
       "      <td>56</td>\n",
       "    </tr>\n",
       "    <tr>\n",
       "      <td>7</td>\n",
       "      <td>Norma Yuliana Cala Martinez</td>\n",
       "      <td>34</td>\n",
       "    </tr>\n",
       "    <tr>\n",
       "      <td>28</td>\n",
       "      <td>Daileny Dorado Delgado</td>\n",
       "      <td>29</td>\n",
       "    </tr>\n",
       "    <tr>\n",
       "      <td>3</td>\n",
       "      <td>Camilo Rojas</td>\n",
       "      <td>27</td>\n",
       "    </tr>\n",
       "    <tr>\n",
       "      <td>9</td>\n",
       "      <td>Jhonathan Giraldo</td>\n",
       "      <td>27</td>\n",
       "    </tr>\n",
       "    <tr>\n",
       "      <td>22</td>\n",
       "      <td>Diego Diaz</td>\n",
       "      <td>27</td>\n",
       "    </tr>\n",
       "    <tr>\n",
       "      <td>12</td>\n",
       "      <td>Diana Rodríguez</td>\n",
       "      <td>25</td>\n",
       "    </tr>\n",
       "    <tr>\n",
       "      <td>17</td>\n",
       "      <td>Franz Estivens Reyes Lugo</td>\n",
       "      <td>25</td>\n",
       "    </tr>\n",
       "    <tr>\n",
       "      <td>0</td>\n",
       "      <td>Viviana Márquez</td>\n",
       "      <td>24</td>\n",
       "    </tr>\n",
       "    <tr>\n",
       "      <td>26</td>\n",
       "      <td>Juan Sebastian Cruz</td>\n",
       "      <td>23</td>\n",
       "    </tr>\n",
       "    <tr>\n",
       "      <td>16</td>\n",
       "      <td>Fabián Camilo Cabrera Carvajal</td>\n",
       "      <td>22</td>\n",
       "    </tr>\n",
       "    <tr>\n",
       "      <td>2</td>\n",
       "      <td>Ilvar Dario Sanabria</td>\n",
       "      <td>22</td>\n",
       "    </tr>\n",
       "    <tr>\n",
       "      <td>18</td>\n",
       "      <td>Fabio Peña</td>\n",
       "      <td>22</td>\n",
       "    </tr>\n",
       "    <tr>\n",
       "      <td>25</td>\n",
       "      <td>Manuel Alejandro Molina Bastidas</td>\n",
       "      <td>21</td>\n",
       "    </tr>\n",
       "    <tr>\n",
       "      <td>30</td>\n",
       "      <td>Alexandra Duarte M.</td>\n",
       "      <td>20</td>\n",
       "    </tr>\n",
       "    <tr>\n",
       "      <td>14</td>\n",
       "      <td>Jonathan Fuya</td>\n",
       "      <td>18</td>\n",
       "    </tr>\n",
       "    <tr>\n",
       "      <td>8</td>\n",
       "      <td>Jhon Freddy Puentes</td>\n",
       "      <td>18</td>\n",
       "    </tr>\n",
       "    <tr>\n",
       "      <td>6</td>\n",
       "      <td>Jairo Iván Ordóñez</td>\n",
       "      <td>18</td>\n",
       "    </tr>\n",
       "    <tr>\n",
       "      <td>27</td>\n",
       "      <td>Nadia Ñustes</td>\n",
       "      <td>15</td>\n",
       "    </tr>\n",
       "    <tr>\n",
       "      <td>15</td>\n",
       "      <td>Leydi Liliana Toquica</td>\n",
       "      <td>14</td>\n",
       "    </tr>\n",
       "    <tr>\n",
       "      <td>20</td>\n",
       "      <td>Ricardo Yesid Godoy Castrillon</td>\n",
       "      <td>13</td>\n",
       "    </tr>\n",
       "    <tr>\n",
       "      <td>21</td>\n",
       "      <td>Yuly Vanessa Chinchilla</td>\n",
       "      <td>13</td>\n",
       "    </tr>\n",
       "    <tr>\n",
       "      <td>5</td>\n",
       "      <td>Cindy Naranjo</td>\n",
       "      <td>12</td>\n",
       "    </tr>\n",
       "    <tr>\n",
       "      <td>11</td>\n",
       "      <td>Angela Cristina Villate Moreno</td>\n",
       "      <td>11</td>\n",
       "    </tr>\n",
       "    <tr>\n",
       "      <td>23</td>\n",
       "      <td>Alejandro Fandiño</td>\n",
       "      <td>11</td>\n",
       "    </tr>\n",
       "    <tr>\n",
       "      <td>29</td>\n",
       "      <td>Andrés Martínez</td>\n",
       "      <td>11</td>\n",
       "    </tr>\n",
       "    <tr>\n",
       "      <td>13</td>\n",
       "      <td>Nicaulis Chica</td>\n",
       "      <td>10</td>\n",
       "    </tr>\n",
       "    <tr>\n",
       "      <td>24</td>\n",
       "      <td>Leonardo Rubio</td>\n",
       "      <td>7</td>\n",
       "    </tr>\n",
       "    <tr>\n",
       "      <td>1</td>\n",
       "      <td>Jorge Gomez</td>\n",
       "      <td>5</td>\n",
       "    </tr>\n",
       "  </tbody>\n",
       "</table>\n",
       "</div>"
      ],
      "text/plain": [
       "                              Nombre  NumPalabras\n",
       "4                         Xiomy Díaz           64\n",
       "10         Arturo Hernández Carvajal           63\n",
       "19       Duberney Agudelo Delgadillo           56\n",
       "7        Norma Yuliana Cala Martinez           34\n",
       "28            Daileny Dorado Delgado           29\n",
       "3                       Camilo Rojas           27\n",
       "9                  Jhonathan Giraldo           27\n",
       "22                        Diego Diaz           27\n",
       "12                   Diana Rodríguez           25\n",
       "17         Franz Estivens Reyes Lugo           25\n",
       "0                    Viviana Márquez           24\n",
       "26               Juan Sebastian Cruz           23\n",
       "16    Fabián Camilo Cabrera Carvajal           22\n",
       "2               Ilvar Dario Sanabria           22\n",
       "18                        Fabio Peña           22\n",
       "25  Manuel Alejandro Molina Bastidas           21\n",
       "30               Alexandra Duarte M.           20\n",
       "14                     Jonathan Fuya           18\n",
       "8                Jhon Freddy Puentes           18\n",
       "6                 Jairo Iván Ordóñez           18\n",
       "27                      Nadia Ñustes           15\n",
       "15             Leydi Liliana Toquica           14\n",
       "20    Ricardo Yesid Godoy Castrillon           13\n",
       "21           Yuly Vanessa Chinchilla           13\n",
       "5                      Cindy Naranjo           12\n",
       "11    Angela Cristina Villate Moreno           11\n",
       "23                 Alejandro Fandiño           11\n",
       "29                   Andrés Martínez           11\n",
       "13                    Nicaulis Chica           10\n",
       "24                    Leonardo Rubio            7\n",
       "1                        Jorge Gomez            5"
      ]
     },
     "execution_count": 4,
     "metadata": {},
     "output_type": "execute_result"
    }
   ],
   "source": [
    "datos[['Nombre', 'NumPalabras']].sort_values(by='NumPalabras', ascending=False)"
   ]
  },
  {
   "cell_type": "code",
   "execution_count": 5,
   "metadata": {},
   "outputs": [],
   "source": [
    "#Concatenamos todas las palabras que están dentro del campo donde se indica la razón por la que se está estudiando\n",
    "#Analítica Estratégica de Datos y lo dejamos todo dentro de la variable texto\n",
    "texto = \" \".join(razon for razon in datos['¿Por qué estás estudiando análitica estratégica de datos?'])"
   ]
  },
  {
   "cell_type": "code",
   "execution_count": 6,
   "metadata": {},
   "outputs": [
    {
     "name": "stdout",
     "output_type": "stream",
     "text": [
      "Existen 4308 palabras en las razones por la que decidieron estudiar Analítica Estratégica de Datos\n"
     ]
    }
   ],
   "source": [
    "print (\"Existen {} palabras en las razones por la que decidieron estudiar Analítica Estratégica de Datos\".format(len(texto)))"
   ]
  },
  {
   "cell_type": "markdown",
   "metadata": {},
   "source": [
    "### 4.3 Palabra más utilizada"
   ]
  },
  {
   "cell_type": "code",
   "execution_count": 7,
   "metadata": {},
   "outputs": [
    {
     "name": "stderr",
     "output_type": "stream",
     "text": [
      "[nltk_data] Downloading package stopwords to\n",
      "[nltk_data]     C:\\Users\\eordjai\\AppData\\Roaming\\nltk_data...\n",
      "[nltk_data]   Package stopwords is already up-to-date!\n"
     ]
    },
    {
     "data": {
      "text/plain": [
       "[('datos', 14),\n",
       " ('aprender', 10),\n",
       " ('profesional', 7),\n",
       " ('herramientas', 7),\n",
       " ('decisiones', 6),\n",
       " ('valor', 6),\n",
       " ('información', 5),\n",
       " ('quiero', 5),\n",
       " ('gusta', 5),\n",
       " ('personal', 4),\n",
       " ('trabajo', 4),\n",
       " ('toma', 4),\n",
       " ('analitica', 4),\n",
       " ('creo', 3),\n",
       " ('temas', 3)]"
      ]
     },
     "execution_count": 7,
     "metadata": {},
     "output_type": "execute_result"
    }
   ],
   "source": [
    "#Descargamso las palabras de conexión o StopWords para que no nos aparezca estas palabras dentro del conteo \n",
    "nltk.download('stopwords')\n",
    "palabras_conexion = set(stopwords.words('spanish'))\n",
    "\n",
    "#Eliminamos de nuestra lista, las palabras conexión\n",
    "palabrasLimpias = [palabra for palabra in texto.lower().split() if not palabra in palabras_conexion]\n",
    "\n",
    "#Transformamos a lista y contamos la cantidad de ocurrencias por palabra\n",
    "palabras = collections.Counter(list(palabrasLimpias))\n",
    "\n",
    "#Luego, lo pasamos a un DataFrame:\n",
    "dfPalabras = pd.DataFrame(palabras.most_common(20),\n",
    "                         columns=['palabra','cantidad'])\n",
    "\n",
    "palabras.most_common(15)"
   ]
  },
  {
   "cell_type": "code",
   "execution_count": 8,
   "metadata": {},
   "outputs": [
    {
     "data": {
      "image/png": "[encoded data removed]",
      "text/plain": [
       "<Figure size 576x576 with 1 Axes>"
      ]
     },
     "metadata": {
      "needs_background": "light"
     },
     "output_type": "display_data"
    }
   ],
   "source": [
    "#Ahora, imprimamos en un Plot de Barras el resultado de las palabras más comunes\n",
    "fig, ax = plt.subplots(figsize=(8, 8))\n",
    "\n",
    "dfPalabras.sort_values(by='cantidad').plot.barh(x='palabra',\n",
    "                      y='cantidad',\n",
    "                      ax=ax,\n",
    "                      color=\"red\")\n",
    "\n",
    "ax.set_title(\"Cantidad de Palabras en Documento\")\n",
    "\n",
    "plt.show()"
   ]
  },
  {
   "cell_type": "markdown",
   "metadata": {},
   "source": [
    "El resultado nos muestra que la palabra más común en los comentarios del documento, es la palabra __datos__"
   ]
  },
  {
   "cell_type": "code",
   "execution_count": null,
   "metadata": {},
   "outputs": [],
   "source": []
  }
 ],
 "metadata": {
  "kernelspec": {
   "display_name": "Python 3",
   "language": "python",
   "name": "python3"
  },
  "language_info": {
   "codemirror_mode": {
    "name": "ipython",
    "version": 3
   },
   "file_extension": ".py",
   "mimetype": "text/x-python",
   "name": "python",
   "nbconvert_exporter": "python",
   "pygments_lexer": "ipython3",
   "version": "3.7.4"
  }
 },
 "nbformat": 4,
 "nbformat_minor": 2
}
